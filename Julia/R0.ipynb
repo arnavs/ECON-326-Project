{
 "cells": [
  {
   "cell_type": "markdown",
   "metadata": {},
   "source": [
    "# $R_0$ Analysis"
   ]
  },
  {
   "cell_type": "markdown",
   "metadata": {},
   "source": [
    "One of the key quantities of interest for any infectious pathogen is the _reproductive number_, denoted $R_0$. \n",
    "\n",
    "This is the expected number of new cases caused by each case. \n",
    "\n",
    "Most estimates place this number for the 2019-nCov (novel coronavirus) as between 2 and 3. For example, Zhang et al ([link](https://www.ncbi.nlm.nih.gov/pubmed/32097725)), who analyzed the outbreak on the Diamond Princess cruise ship, say: \n",
    "\n",
    "> The Maximum-Likelihood (ML) value of R0 was 2.28 for COVID-19 outbreak at the early stage on the ship. The median with 95% confidence interval (CI) of R0 values was 2.28 (2.06-2.52) estimated by the bootstrap resampling method.\n",
    "\n",
    "In this notebook, we try to reproduce these findings within Canada. That is, we run a hypothesis test: \n",
    "\n",
    "$$ H_0: R_0 \\in [2.06, 2.52] $$ \n",
    "\n",
    "$$ H_A: R_0 < 2.06 \\text{ or } R_0 > 2.52 $$ \n",
    "\n",
    "**Note:** This is known as a [composite hypothesis](https://en.wikipedia.org/wiki/P-value#For_composite_hypothesis), because we're testing against a set of values (in this case an interval), rather than a single number. \n",
    "\n",
    "It looks like the procedure is simply to pick the most unfavorable point in the interval, and then do a standard point-to-point hypothesis test."
   ]
  },
  {
   "cell_type": "markdown",
   "metadata": {},
   "source": [
    "### Setup"
   ]
  },
  {
   "cell_type": "code",
   "execution_count": 1,
   "metadata": {},
   "outputs": [
    {
     "name": "stderr",
     "output_type": "stream",
     "text": [
      "\u001b[32m\u001b[1m Activating\u001b[22m\u001b[39m environment at `~/classes/326/ECON-326-Project/Project.toml`\n"
     ]
    }
   ],
   "source": [
    "# Load dependencies\n",
    "using Pkg\n",
    "pkg\"activate ..\"\n",
    "using JSON, Statistics, Plots, Dates, LsqFit, TimeSeries\n",
    "using StatsModels, GLM, HypothesisTests"
   ]
  },
  {
   "cell_type": "code",
   "execution_count": 2,
   "metadata": {},
   "outputs": [],
   "source": [
    "# Load data\n",
    "data = JSON.parsefile(\"../data/covid_data.json\");"
   ]
  },
  {
   "cell_type": "markdown",
   "metadata": {},
   "source": [
    "### Data Filtering"
   ]
  },
  {
   "cell_type": "markdown",
   "metadata": {},
   "source": [
    "There is a potential heteroskedasticity problem, in that if we run our regression against the entire timespan (from Jan. 22 to April 5), we're ignoring all the changes in the public health environment which have taken place. \n",
    "\n",
    "For example, we would expect that the observed $\\hat{R}_0$ in Canada is lower in recent weeks, as Canada has aggressively enforced social distancing.\n",
    "\n",
    "So, we'll **remove all data** dating to after the WHO pandemic declaration on **Mar. 11, 2020**."
   ]
  },
  {
   "cell_type": "code",
   "execution_count": 6,
   "metadata": {},
   "outputs": [],
   "source": [
    "# Unpack data\n",
    "pandemic_day = Date(\"2020-03-11\")\n",
    "canada = data[\"Canada\"]\n",
    "\n",
    "confirmed = [point[\"confirmed\"] for point in canada if Date(point[\"date\"]) <= pandemic_day]\n",
    "recovered = [point[\"recovered\"] for point in canada if  Date(point[\"date\"]) <= pandemic_day]\n",
    "deaths = [point[\"deaths\"] for point in canada if Date(point[\"date\"]) <= pandemic_day]\n",
    "dates = Date.([point[\"date\"] for point in canada if Date(point[\"date\"]) <= pandemic_day]);"
   ]
  },
  {
   "cell_type": "markdown",
   "metadata": {},
   "source": [
    "### Regression Model"
   ]
  },
  {
   "cell_type": "markdown",
   "metadata": {},
   "source": [
    "There is another difficulty, which is that there is not a uniform incubation period for the virus. \n",
    "\n",
    "However, the median incubation period is roughly 5 days (see [here](https://annals.org/aim/fullarticle/2762808/incubation-period-coronavirus-disease-2019-covid-19-from-publicly-reported), _Annals of Internal Medicine_), so we will use that as an approximation. \n",
    "\n",
    "Our guess for the true spread process is then:\n",
    "\n",
    "$$ x_{t + 5} = R_0 x_t + \\epsilon $$\n",
    "\n",
    "If Canada was a closed system (i.e., there was no immigration), and the incubation period was exactly and uniformly 5 days, with each case causing exactly $R_0$ others, then $\\epsilon = 0$. \n",
    "\n",
    "Note that this implies an exponential spread: \n",
    "\n",
    "$$\\begin{align}\n",
    "x_{t + 5} - x_t = (R_0 - 1)x_t  \\\\ \n",
    "\\frac{d x}{d t} = \\frac{1}{5} \\big( (R_0 - 1) \\big) x\n",
    "\\end{align}$$\n",
    "\n",
    "Which is a straightforward ODE with solution: \n",
    "\n",
    "$$ x(t) = \\alpha e^{\\frac{1}{5} \\big( (R_0 - 1) \\big)t} $$ \n",
    "\n",
    "with $\\alpha$ an integration constant (the num. of cases at $t = 0$.)"
   ]
  },
  {
   "cell_type": "markdown",
   "metadata": {},
   "source": [
    "### Linear Regression and Assumptions"
   ]
  },
  {
   "cell_type": "markdown",
   "metadata": {},
   "source": [
    "So, the exact regression we are running is simply: \n",
    "\n",
    "$$ y_i = \\beta_1 x_i + \\beta_0 $$\n",
    "\n",
    "Where the data is grouped $(x_i, y_i) = (x_t, x_{t+5})$.\n",
    "\n",
    "Before we begin, recall the assumptions: \n",
    "\n",
    "1. $0 < \\mathbb{E}X^4 < \\infty$ and $0 < \\mathbb{E}Y^4 < \\infty$: This is true. We plotted the distributions earlier, and nothing was truly obscene. Also, Canada has a finite population, and the data are small relative to that.\n",
    "\n",
    "2. $\\mathbb{E}[u_i | X_i] = 0$: This one is shaky. As $X_i$ increases, for example, $Y_i$ becomes less predictable (the 5-day incubation time was a rough estimate, and one that's liable to break down as more and more people get the virus.) But there's no easy way around it.\n",
    "\n",
    "3. $(X_i, Y_i)$ are i.i.d. draws from their joint distribution: Certainly there wasn't any systematic sampling done (and the future 5 days away is unknowable when each $X_i$ was \"sampled.\") But perhaps the cutoff rule we used (there are only time periods of interest; before Mar. 11, and after) is too coarse. \n",
    "\n",
    "   The key question is too much serial dependence (the data point $(X_t, X_{t+5})$ is correlated with $(X_{t+5}, X_{t+10})$). But short of using sophisticated statistical techniques and multiple independent data sets, we can't see an obvious answer."
   ]
  },
  {
   "cell_type": "markdown",
   "metadata": {},
   "source": [
    "### Regression and Testing"
   ]
  },
  {
   "cell_type": "code",
   "execution_count": null,
   "metadata": {},
   "outputs": [],
   "source": []
  }
 ],
 "metadata": {
  "kernelspec": {
   "display_name": "Julia 1.4.0",
   "language": "julia",
   "name": "julia-1.4"
  },
  "language_info": {
   "file_extension": ".jl",
   "mimetype": "application/julia",
   "name": "julia",
   "version": "1.4.0"
  }
 },
 "nbformat": 4,
 "nbformat_minor": 4
}
